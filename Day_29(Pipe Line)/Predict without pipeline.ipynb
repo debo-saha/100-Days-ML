{
 "cells": [
  {
   "cell_type": "code",
   "execution_count": null,
   "id": "40189cb7-7e3b-4b3b-aba1-2c27c51bbcd0",
   "metadata": {},
   "outputs": [],
   "source": []
  }
 ],
 "metadata": {
  "kernelspec": {
   "display_name": "",
   "name": ""
  },
  "language_info": {
   "name": ""
  }
 },
 "nbformat": 4,
 "nbformat_minor": 5
}
