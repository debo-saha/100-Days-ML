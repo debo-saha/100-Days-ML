{
 "cells": [
  {
   "cell_type": "code",
   "execution_count": 1,
   "id": "3143808f-e2bb-4fbd-bab8-8baadc2eef60",
   "metadata": {},
   "outputs": [],
   "source": [
    "import pandas as pd\n",
    "import requests\n",
    "from bs4 import BeautifulSoup\n",
    "import numpy as np  "
   ]
  },
  {
   "cell_type": "markdown",
   "id": "7e58e7d9-7182-476f-9b95-91694d3ce8c5",
   "metadata": {},
   "source": [
    "# if response code is 403\n",
    "\n",
    "headers={'User-Agent':'Mozilla/5.0 (Windows NT 6.3; Win 64 ; x64) Apple WeKit /537.36(KHTML , like Gecko) Chrome/80.0.3987.162 Safari/537.36'} \n",
    "\n",
    "requests.get('url',headers=headers).text"
   ]
  },
  {
   "cell_type": "code",
   "execution_count": 2,
   "id": "cb6feba1-f58c-4413-b44d-3d6b22f15145",
   "metadata": {},
   "outputs": [
    {
     "data": {
      "text/plain": [
       "'<HTML><HEAD>\\n<TITLE>Access Denied</TITLE>\\n</HEAD><BODY>\\n<H1>Access Denied</H1>\\n \\nYou don\\'t have permission to access \"http&#58;&#47;&#47;www&#46;ambitionbox&#46;com&#47;list&#45;of&#45;companies&#63;\" on this server.<P>\\nReference&#32;&#35;18&#46;57722c31&#46;1728193908&#46;a9e2bbb0\\n<P>https&#58;&#47;&#47;errors&#46;edgesuite&#46;net&#47;18&#46;57722c31&#46;1728193908&#46;a9e2bbb0</P>\\n</BODY>\\n</HTML>\\n'"
      ]
     },
     "execution_count": 2,
     "metadata": {},
     "output_type": "execute_result"
    }
   ],
   "source": [
    "requests.get('https://www.ambitionbox.com/list-of-companies?page=1').text"
   ]
  },
  {
   "cell_type": "markdown",
   "id": "85163992-9bf2-4efd-b3d0-0086435dbd5a",
   "metadata": {},
   "source": [
    "##### To solve\n"
   ]
  },
  {
   "cell_type": "code",
   "execution_count": null,
   "id": "08820bfd-e3aa-44da-b9fb-ac6d6979dd9b",
   "metadata": {},
   "outputs": [],
   "source": [
    "headers={'User-Agent':'Mozilla/5.0 (Windows NT 6.3; Win 64 ; x64) Apple WeKit /537.36(KHTML , like Gecko) Chrome/80.0.3987.162 Safari/537.36'}\n",
    "webpage= requests.get('https://www.ambitionbox.com/list-of-companies?page=1',headers=headers).text"
   ]
  },
  {
   "cell_type": "code",
   "execution_count": null,
   "id": "f43a2ad1-d11c-4d4b-8738-21448f8d1b40",
   "metadata": {},
   "outputs": [],
   "source": [
    "soup=BeautifulSoup(webpage,'lxml')"
   ]
  },
  {
   "cell_type": "code",
   "execution_count": null,
   "id": "79ec03ef-8356-4a01-8f77-8b96023e45bc",
   "metadata": {},
   "outputs": [],
   "source": []
  }
 ],
 "metadata": {
  "kernelspec": {
   "display_name": "Python 3 (ipykernel)",
   "language": "python",
   "name": "python3"
  },
  "language_info": {
   "codemirror_mode": {
    "name": "ipython",
    "version": 3
   },
   "file_extension": ".py",
   "mimetype": "text/x-python",
   "name": "python",
   "nbconvert_exporter": "python",
   "pygments_lexer": "ipython3",
   "version": "3.12.6"
  }
 },
 "nbformat": 4,
 "nbformat_minor": 5
}
