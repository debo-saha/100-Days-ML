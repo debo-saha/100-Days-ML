{
 "cells": [
  {
   "cell_type": "code",
   "execution_count": 1,
   "id": "40632cd3-8294-44fd-ae71-44f61d468eae",
   "metadata": {},
   "outputs": [],
   "source": [
    "import numpy as np\n",
    "import pandas as pd\n",
    "date = pd.read_csv('orders.csv')\n",
    "time = pd.read_csv('messages.csv')"
   ]
  },
  {
   "cell_type": "code",
   "execution_count": 2,
   "id": "7f149768-a0ff-43fb-951f-ac9d77700f87",
   "metadata": {},
   "outputs": [
    {
     "data": {
      "text/html": [
       "<div>\n",
       "<style scoped>\n",
       "    .dataframe tbody tr th:only-of-type {\n",
       "        vertical-align: middle;\n",
       "    }\n",
       "\n",
       "    .dataframe tbody tr th {\n",
       "        vertical-align: top;\n",
       "    }\n",
       "\n",
       "    .dataframe thead th {\n",
       "        text-align: right;\n",
       "    }\n",
       "</style>\n",
       "<table border=\"1\" class=\"dataframe\">\n",
       "  <thead>\n",
       "    <tr style=\"text-align: right;\">\n",
       "      <th></th>\n",
       "      <th>date</th>\n",
       "    </tr>\n",
       "  </thead>\n",
       "  <tbody>\n",
       "    <tr>\n",
       "      <th>416</th>\n",
       "      <td>2019-08-02</td>\n",
       "    </tr>\n",
       "    <tr>\n",
       "      <th>421</th>\n",
       "      <td>2019-07-05</td>\n",
       "    </tr>\n",
       "    <tr>\n",
       "      <th>489</th>\n",
       "      <td>2018-12-02</td>\n",
       "    </tr>\n",
       "    <tr>\n",
       "      <th>193</th>\n",
       "      <td>2019-05-18</td>\n",
       "    </tr>\n",
       "    <tr>\n",
       "      <th>515</th>\n",
       "      <td>2019-06-22</td>\n",
       "    </tr>\n",
       "  </tbody>\n",
       "</table>\n",
       "</div>"
      ],
      "text/plain": [
       "           date\n",
       "416  2019-08-02\n",
       "421  2019-07-05\n",
       "489  2018-12-02\n",
       "193  2019-05-18\n",
       "515  2019-06-22"
      ]
     },
     "execution_count": 2,
     "metadata": {},
     "output_type": "execute_result"
    }
   ],
   "source": [
    "date.drop(columns=['product_id','city_id','orders'],inplace=True)\n",
    "date.sample(5)\n"
   ]
  },
  {
   "cell_type": "code",
   "execution_count": 3,
   "id": "df91871c-b3fa-41db-9db0-54773ba15b0d",
   "metadata": {},
   "outputs": [
    {
     "data": {
      "text/html": [
       "<div>\n",
       "<style scoped>\n",
       "    .dataframe tbody tr th:only-of-type {\n",
       "        vertical-align: middle;\n",
       "    }\n",
       "\n",
       "    .dataframe tbody tr th {\n",
       "        vertical-align: top;\n",
       "    }\n",
       "\n",
       "    .dataframe thead th {\n",
       "        text-align: right;\n",
       "    }\n",
       "</style>\n",
       "<table border=\"1\" class=\"dataframe\">\n",
       "  <thead>\n",
       "    <tr style=\"text-align: right;\">\n",
       "      <th></th>\n",
       "      <th>date</th>\n",
       "      <th>msg</th>\n",
       "    </tr>\n",
       "  </thead>\n",
       "  <tbody>\n",
       "    <tr>\n",
       "      <th>745</th>\n",
       "      <td>2013-09-28 00:35:00</td>\n",
       "      <td>ласковая кошечка ищет своего ночного котика</td>\n",
       "    </tr>\n",
       "    <tr>\n",
       "      <th>985</th>\n",
       "      <td>2016-01-18 23:39:00</td>\n",
       "      <td>НЕ БЕДНЫЙ  НО ВРЕДНЫЙ П29  ИЩЕТ МИЛУЮ ДЕВ. ДЛЯ...</td>\n",
       "    </tr>\n",
       "    <tr>\n",
       "      <th>172</th>\n",
       "      <td>2013-12-06 23:57:00</td>\n",
       "      <td>всем привет забыл написать я парень ищу девушк...</td>\n",
       "    </tr>\n",
       "    <tr>\n",
       "      <th>415</th>\n",
       "      <td>2012-04-01 23:52:00</td>\n",
       "      <td>А говорите могем. КУБАСОВ</td>\n",
       "    </tr>\n",
       "    <tr>\n",
       "      <th>100</th>\n",
       "      <td>2013-02-25 00:11:00</td>\n",
       "      <td>П+П20-25 лет пишите звоните:-).0937457784</td>\n",
       "    </tr>\n",
       "  </tbody>\n",
       "</table>\n",
       "</div>"
      ],
      "text/plain": [
       "                    date                                                msg\n",
       "745  2013-09-28 00:35:00        ласковая кошечка ищет своего ночного котика\n",
       "985  2016-01-18 23:39:00  НЕ БЕДНЫЙ  НО ВРЕДНЫЙ П29  ИЩЕТ МИЛУЮ ДЕВ. ДЛЯ...\n",
       "172  2013-12-06 23:57:00  всем привет забыл написать я парень ищу девушк...\n",
       "415  2012-04-01 23:52:00                          А говорите могем. КУБАСОВ\n",
       "100  2013-02-25 00:11:00          П+П20-25 лет пишите звоните:-).0937457784"
      ]
     },
     "execution_count": 3,
     "metadata": {},
     "output_type": "execute_result"
    }
   ],
   "source": [
    "time.sample(5)"
   ]
  },
  {
   "cell_type": "code",
   "execution_count": 4,
   "id": "3b45774e-9649-474c-ad8c-b98db370d736",
   "metadata": {},
   "outputs": [
    {
     "name": "stdout",
     "output_type": "stream",
     "text": [
      "<class 'pandas.core.frame.DataFrame'>\n",
      "RangeIndex: 1000 entries, 0 to 999\n",
      "Data columns (total 1 columns):\n",
      " #   Column  Non-Null Count  Dtype \n",
      "---  ------  --------------  ----- \n",
      " 0   date    1000 non-null   object\n",
      "dtypes: object(1)\n",
      "memory usage: 7.9+ KB\n"
     ]
    }
   ],
   "source": [
    "date.info()"
   ]
  },
  {
   "cell_type": "markdown",
   "id": "c80ad3f9-a16f-480d-9f3c-9748d426d1ed",
   "metadata": {},
   "source": [
    "# Working with Dates"
   ]
  },
  {
   "cell_type": "code",
   "execution_count": 5,
   "id": "4be24004-628e-4595-bc17-5ca8bb1fa1f6",
   "metadata": {},
   "outputs": [
    {
     "name": "stdout",
     "output_type": "stream",
     "text": [
      "<class 'pandas.core.frame.DataFrame'>\n",
      "RangeIndex: 1000 entries, 0 to 999\n",
      "Data columns (total 1 columns):\n",
      " #   Column  Non-Null Count  Dtype         \n",
      "---  ------  --------------  -----         \n",
      " 0   date    1000 non-null   datetime64[ns]\n",
      "dtypes: datetime64[ns](1)\n",
      "memory usage: 7.9 KB\n"
     ]
    }
   ],
   "source": [
    "date['date']=pd.to_datetime(date['date'])\n",
    "date.info()"
   ]
  },
  {
   "cell_type": "markdown",
   "id": "b81f8615-0e02-4e59-bf86-1038849c7c21",
   "metadata": {},
   "source": [
    "#### 1. Extract year\n"
   ]
  },
  {
   "cell_type": "code",
   "execution_count": 6,
   "id": "e0558f83-c693-4da7-be4a-8f6479fcca23",
   "metadata": {},
   "outputs": [
    {
     "data": {
      "text/html": [
       "<div>\n",
       "<style scoped>\n",
       "    .dataframe tbody tr th:only-of-type {\n",
       "        vertical-align: middle;\n",
       "    }\n",
       "\n",
       "    .dataframe tbody tr th {\n",
       "        vertical-align: top;\n",
       "    }\n",
       "\n",
       "    .dataframe thead th {\n",
       "        text-align: right;\n",
       "    }\n",
       "</style>\n",
       "<table border=\"1\" class=\"dataframe\">\n",
       "  <thead>\n",
       "    <tr style=\"text-align: right;\">\n",
       "      <th></th>\n",
       "      <th>date</th>\n",
       "      <th>date-year</th>\n",
       "    </tr>\n",
       "  </thead>\n",
       "  <tbody>\n",
       "    <tr>\n",
       "      <th>0</th>\n",
       "      <td>2019-12-10</td>\n",
       "      <td>2019</td>\n",
       "    </tr>\n",
       "    <tr>\n",
       "      <th>1</th>\n",
       "      <td>2018-08-15</td>\n",
       "      <td>2018</td>\n",
       "    </tr>\n",
       "    <tr>\n",
       "      <th>2</th>\n",
       "      <td>2018-10-23</td>\n",
       "      <td>2018</td>\n",
       "    </tr>\n",
       "    <tr>\n",
       "      <th>3</th>\n",
       "      <td>2019-08-17</td>\n",
       "      <td>2019</td>\n",
       "    </tr>\n",
       "    <tr>\n",
       "      <th>4</th>\n",
       "      <td>2019-01-06</td>\n",
       "      <td>2019</td>\n",
       "    </tr>\n",
       "    <tr>\n",
       "      <th>...</th>\n",
       "      <td>...</td>\n",
       "      <td>...</td>\n",
       "    </tr>\n",
       "    <tr>\n",
       "      <th>995</th>\n",
       "      <td>2018-10-08</td>\n",
       "      <td>2018</td>\n",
       "    </tr>\n",
       "    <tr>\n",
       "      <th>996</th>\n",
       "      <td>2018-12-06</td>\n",
       "      <td>2018</td>\n",
       "    </tr>\n",
       "    <tr>\n",
       "      <th>997</th>\n",
       "      <td>2019-05-07</td>\n",
       "      <td>2019</td>\n",
       "    </tr>\n",
       "    <tr>\n",
       "      <th>998</th>\n",
       "      <td>2019-03-03</td>\n",
       "      <td>2019</td>\n",
       "    </tr>\n",
       "    <tr>\n",
       "      <th>999</th>\n",
       "      <td>2019-10-15</td>\n",
       "      <td>2019</td>\n",
       "    </tr>\n",
       "  </tbody>\n",
       "</table>\n",
       "<p>1000 rows × 2 columns</p>\n",
       "</div>"
      ],
      "text/plain": [
       "          date  date-year\n",
       "0   2019-12-10       2019\n",
       "1   2018-08-15       2018\n",
       "2   2018-10-23       2018\n",
       "3   2019-08-17       2019\n",
       "4   2019-01-06       2019\n",
       "..         ...        ...\n",
       "995 2018-10-08       2018\n",
       "996 2018-12-06       2018\n",
       "997 2019-05-07       2019\n",
       "998 2019-03-03       2019\n",
       "999 2019-10-15       2019\n",
       "\n",
       "[1000 rows x 2 columns]"
      ]
     },
     "execution_count": 6,
     "metadata": {},
     "output_type": "execute_result"
    }
   ],
   "source": [
    "date['date-year']=date['date'].dt.year\n",
    "date"
   ]
  },
  {
   "cell_type": "markdown",
   "id": "b157dad6-a7dd-4622-8f69-48c95102e5a1",
   "metadata": {},
   "source": [
    "#### 2. Extract Month"
   ]
  },
  {
   "cell_type": "code",
   "execution_count": 7,
   "id": "a10249d8-cb1f-492d-91b5-fae40f5d0229",
   "metadata": {},
   "outputs": [
    {
     "data": {
      "text/html": [
       "<div>\n",
       "<style scoped>\n",
       "    .dataframe tbody tr th:only-of-type {\n",
       "        vertical-align: middle;\n",
       "    }\n",
       "\n",
       "    .dataframe tbody tr th {\n",
       "        vertical-align: top;\n",
       "    }\n",
       "\n",
       "    .dataframe thead th {\n",
       "        text-align: right;\n",
       "    }\n",
       "</style>\n",
       "<table border=\"1\" class=\"dataframe\">\n",
       "  <thead>\n",
       "    <tr style=\"text-align: right;\">\n",
       "      <th></th>\n",
       "      <th>date</th>\n",
       "      <th>date-year</th>\n",
       "      <th>date_month_name</th>\n",
       "      <th>date_month_no</th>\n",
       "    </tr>\n",
       "  </thead>\n",
       "  <tbody>\n",
       "    <tr>\n",
       "      <th>0</th>\n",
       "      <td>2019-12-10</td>\n",
       "      <td>2019</td>\n",
       "      <td>December</td>\n",
       "      <td>12</td>\n",
       "    </tr>\n",
       "    <tr>\n",
       "      <th>1</th>\n",
       "      <td>2018-08-15</td>\n",
       "      <td>2018</td>\n",
       "      <td>August</td>\n",
       "      <td>8</td>\n",
       "    </tr>\n",
       "    <tr>\n",
       "      <th>2</th>\n",
       "      <td>2018-10-23</td>\n",
       "      <td>2018</td>\n",
       "      <td>October</td>\n",
       "      <td>10</td>\n",
       "    </tr>\n",
       "    <tr>\n",
       "      <th>3</th>\n",
       "      <td>2019-08-17</td>\n",
       "      <td>2019</td>\n",
       "      <td>August</td>\n",
       "      <td>8</td>\n",
       "    </tr>\n",
       "    <tr>\n",
       "      <th>4</th>\n",
       "      <td>2019-01-06</td>\n",
       "      <td>2019</td>\n",
       "      <td>January</td>\n",
       "      <td>1</td>\n",
       "    </tr>\n",
       "  </tbody>\n",
       "</table>\n",
       "</div>"
      ],
      "text/plain": [
       "        date  date-year date_month_name  date_month_no\n",
       "0 2019-12-10       2019        December             12\n",
       "1 2018-08-15       2018          August              8\n",
       "2 2018-10-23       2018         October             10\n",
       "3 2019-08-17       2019          August              8\n",
       "4 2019-01-06       2019         January              1"
      ]
     },
     "execution_count": 7,
     "metadata": {},
     "output_type": "execute_result"
    }
   ],
   "source": [
    "date['date_month_name'] = date['date'].dt.month_name()\n",
    "date['date_month_no'] = date['date'].dt.month\n",
    "date.head()"
   ]
  },
  {
   "cell_type": "markdown",
   "id": "1dcda611-2e33-4add-af11-2228fcf0c1cc",
   "metadata": {},
   "source": [
    "#### 3. Extract Days"
   ]
  },
  {
   "cell_type": "code",
   "execution_count": 8,
   "id": "9ad599ce-991d-435d-8dae-48ff2405ab18",
   "metadata": {},
   "outputs": [
    {
     "data": {
      "text/html": [
       "<div>\n",
       "<style scoped>\n",
       "    .dataframe tbody tr th:only-of-type {\n",
       "        vertical-align: middle;\n",
       "    }\n",
       "\n",
       "    .dataframe tbody tr th {\n",
       "        vertical-align: top;\n",
       "    }\n",
       "\n",
       "    .dataframe thead th {\n",
       "        text-align: right;\n",
       "    }\n",
       "</style>\n",
       "<table border=\"1\" class=\"dataframe\">\n",
       "  <thead>\n",
       "    <tr style=\"text-align: right;\">\n",
       "      <th></th>\n",
       "      <th>date</th>\n",
       "      <th>date-year</th>\n",
       "      <th>date_month_name</th>\n",
       "      <th>date_month_no</th>\n",
       "      <th>date_day</th>\n",
       "      <th>date_name</th>\n",
       "      <th>date_dow</th>\n",
       "    </tr>\n",
       "  </thead>\n",
       "  <tbody>\n",
       "    <tr>\n",
       "      <th>0</th>\n",
       "      <td>2019-12-10</td>\n",
       "      <td>2019</td>\n",
       "      <td>December</td>\n",
       "      <td>12</td>\n",
       "      <td>10</td>\n",
       "      <td>Tuesday</td>\n",
       "      <td>1</td>\n",
       "    </tr>\n",
       "    <tr>\n",
       "      <th>1</th>\n",
       "      <td>2018-08-15</td>\n",
       "      <td>2018</td>\n",
       "      <td>August</td>\n",
       "      <td>8</td>\n",
       "      <td>15</td>\n",
       "      <td>Wednesday</td>\n",
       "      <td>2</td>\n",
       "    </tr>\n",
       "    <tr>\n",
       "      <th>2</th>\n",
       "      <td>2018-10-23</td>\n",
       "      <td>2018</td>\n",
       "      <td>October</td>\n",
       "      <td>10</td>\n",
       "      <td>23</td>\n",
       "      <td>Tuesday</td>\n",
       "      <td>1</td>\n",
       "    </tr>\n",
       "    <tr>\n",
       "      <th>3</th>\n",
       "      <td>2019-08-17</td>\n",
       "      <td>2019</td>\n",
       "      <td>August</td>\n",
       "      <td>8</td>\n",
       "      <td>17</td>\n",
       "      <td>Saturday</td>\n",
       "      <td>5</td>\n",
       "    </tr>\n",
       "    <tr>\n",
       "      <th>4</th>\n",
       "      <td>2019-01-06</td>\n",
       "      <td>2019</td>\n",
       "      <td>January</td>\n",
       "      <td>1</td>\n",
       "      <td>6</td>\n",
       "      <td>Sunday</td>\n",
       "      <td>6</td>\n",
       "    </tr>\n",
       "  </tbody>\n",
       "</table>\n",
       "</div>"
      ],
      "text/plain": [
       "        date  date-year date_month_name  date_month_no  date_day  date_name  \\\n",
       "0 2019-12-10       2019        December             12        10    Tuesday   \n",
       "1 2018-08-15       2018          August              8        15  Wednesday   \n",
       "2 2018-10-23       2018         October             10        23    Tuesday   \n",
       "3 2019-08-17       2019          August              8        17   Saturday   \n",
       "4 2019-01-06       2019         January              1         6     Sunday   \n",
       "\n",
       "   date_dow  \n",
       "0         1  \n",
       "1         2  \n",
       "2         1  \n",
       "3         5  \n",
       "4         6  "
      ]
     },
     "execution_count": 8,
     "metadata": {},
     "output_type": "execute_result"
    }
   ],
   "source": [
    "date['date_day'] = date['date'].dt.day\n",
    "date['date_name'] = date['date'].dt.day_name()\n",
    "date['date_dow'] = date['date'].dt.dayofweek\n",
    "date.head()"
   ]
  },
  {
   "cell_type": "markdown",
   "id": "168bb757-42cc-4a63-8ba7-d5b9e70e4b77",
   "metadata": {},
   "source": [
    "#### 4. Extract week of the year"
   ]
  },
  {
   "cell_type": "code",
   "execution_count": 9,
   "id": "ac085c08-ea55-4570-bbf8-49ab4d7b5e6b",
   "metadata": {},
   "outputs": [
    {
     "data": {
      "text/html": [
       "<div>\n",
       "<style scoped>\n",
       "    .dataframe tbody tr th:only-of-type {\n",
       "        vertical-align: middle;\n",
       "    }\n",
       "\n",
       "    .dataframe tbody tr th {\n",
       "        vertical-align: top;\n",
       "    }\n",
       "\n",
       "    .dataframe thead th {\n",
       "        text-align: right;\n",
       "    }\n",
       "</style>\n",
       "<table border=\"1\" class=\"dataframe\">\n",
       "  <thead>\n",
       "    <tr style=\"text-align: right;\">\n",
       "      <th></th>\n",
       "      <th>date</th>\n",
       "      <th>date-year</th>\n",
       "      <th>date_month_name</th>\n",
       "      <th>date_month_no</th>\n",
       "      <th>date_day</th>\n",
       "      <th>date_name</th>\n",
       "      <th>date_dow</th>\n",
       "      <th>date_week</th>\n",
       "    </tr>\n",
       "  </thead>\n",
       "  <tbody>\n",
       "    <tr>\n",
       "      <th>0</th>\n",
       "      <td>2019-12-10</td>\n",
       "      <td>2019</td>\n",
       "      <td>December</td>\n",
       "      <td>12</td>\n",
       "      <td>10</td>\n",
       "      <td>Tuesday</td>\n",
       "      <td>1</td>\n",
       "      <td>50</td>\n",
       "    </tr>\n",
       "    <tr>\n",
       "      <th>1</th>\n",
       "      <td>2018-08-15</td>\n",
       "      <td>2018</td>\n",
       "      <td>August</td>\n",
       "      <td>8</td>\n",
       "      <td>15</td>\n",
       "      <td>Wednesday</td>\n",
       "      <td>2</td>\n",
       "      <td>33</td>\n",
       "    </tr>\n",
       "    <tr>\n",
       "      <th>2</th>\n",
       "      <td>2018-10-23</td>\n",
       "      <td>2018</td>\n",
       "      <td>October</td>\n",
       "      <td>10</td>\n",
       "      <td>23</td>\n",
       "      <td>Tuesday</td>\n",
       "      <td>1</td>\n",
       "      <td>43</td>\n",
       "    </tr>\n",
       "    <tr>\n",
       "      <th>3</th>\n",
       "      <td>2019-08-17</td>\n",
       "      <td>2019</td>\n",
       "      <td>August</td>\n",
       "      <td>8</td>\n",
       "      <td>17</td>\n",
       "      <td>Saturday</td>\n",
       "      <td>5</td>\n",
       "      <td>33</td>\n",
       "    </tr>\n",
       "    <tr>\n",
       "      <th>4</th>\n",
       "      <td>2019-01-06</td>\n",
       "      <td>2019</td>\n",
       "      <td>January</td>\n",
       "      <td>1</td>\n",
       "      <td>6</td>\n",
       "      <td>Sunday</td>\n",
       "      <td>6</td>\n",
       "      <td>1</td>\n",
       "    </tr>\n",
       "  </tbody>\n",
       "</table>\n",
       "</div>"
      ],
      "text/plain": [
       "        date  date-year date_month_name  date_month_no  date_day  date_name  \\\n",
       "0 2019-12-10       2019        December             12        10    Tuesday   \n",
       "1 2018-08-15       2018          August              8        15  Wednesday   \n",
       "2 2018-10-23       2018         October             10        23    Tuesday   \n",
       "3 2019-08-17       2019          August              8        17   Saturday   \n",
       "4 2019-01-06       2019         January              1         6     Sunday   \n",
       "\n",
       "   date_dow  date_week  \n",
       "0         1         50  \n",
       "1         2         33  \n",
       "2         1         43  \n",
       "3         5         33  \n",
       "4         6          1  "
      ]
     },
     "execution_count": 9,
     "metadata": {},
     "output_type": "execute_result"
    }
   ],
   "source": [
    "date['date_week'] = date['date'].dt.isocalendar().week\n",
    "date.head(5)"
   ]
  },
  {
   "cell_type": "markdown",
   "id": "9f4b815a-13e8-40fa-a6f7-cca6d4ef1077",
   "metadata": {},
   "source": [
    "#### 5. Extract Time elapsed between dates"
   ]
  },
  {
   "cell_type": "code",
   "execution_count": 10,
   "id": "6d707eaa-bb37-4ce2-8955-304d81dbf2d8",
   "metadata": {},
   "outputs": [
    {
     "data": {
      "text/plain": [
       "datetime.datetime(2024, 10, 24, 20, 17, 31, 617804)"
      ]
     },
     "execution_count": 10,
     "metadata": {},
     "output_type": "execute_result"
    }
   ],
   "source": [
    "import datetime\n",
    "\n",
    "today = datetime.datetime.today()\n",
    "\n",
    "today"
   ]
  },
  {
   "cell_type": "code",
   "execution_count": 11,
   "id": "d30d1938-77d9-4851-9ed1-7f44a101d1b6",
   "metadata": {},
   "outputs": [
    {
     "data": {
      "text/plain": [
       "0     1780 days 20:17:31.617804\n",
       "1     2262 days 20:17:31.617804\n",
       "2     2193 days 20:17:31.617804\n",
       "3     1895 days 20:17:31.617804\n",
       "4     2118 days 20:17:31.617804\n",
       "                 ...           \n",
       "995   2208 days 20:17:31.617804\n",
       "996   2149 days 20:17:31.617804\n",
       "997   1997 days 20:17:31.617804\n",
       "998   2062 days 20:17:31.617804\n",
       "999   1836 days 20:17:31.617804\n",
       "Name: date, Length: 1000, dtype: timedelta64[ns]"
      ]
     },
     "execution_count": 11,
     "metadata": {},
     "output_type": "execute_result"
    }
   ],
   "source": [
    "today - date['date']"
   ]
  },
  {
   "cell_type": "code",
   "execution_count": 12,
   "id": "79a6470b-8f05-4f2f-8b2d-e55d2fa54e0e",
   "metadata": {},
   "outputs": [
    {
     "data": {
      "text/plain": [
       "0      1780\n",
       "1      2262\n",
       "2      2193\n",
       "3      1895\n",
       "4      2118\n",
       "       ... \n",
       "995    2208\n",
       "996    2149\n",
       "997    1997\n",
       "998    2062\n",
       "999    1836\n",
       "Name: date, Length: 1000, dtype: int64"
      ]
     },
     "execution_count": 12,
     "metadata": {},
     "output_type": "execute_result"
    }
   ],
   "source": [
    "(today - date['date']).dt.days"
   ]
  },
  {
   "cell_type": "code",
   "execution_count": 13,
   "id": "7364c01d-f537-4120-95f0-732af284c7b8",
   "metadata": {},
   "outputs": [
    {
     "data": {
      "text/plain": [
       "0      254.0\n",
       "1      323.0\n",
       "2      313.0\n",
       "3      271.0\n",
       "4      303.0\n",
       "       ...  \n",
       "995    316.0\n",
       "996    307.0\n",
       "997    285.0\n",
       "998    295.0\n",
       "999    262.0\n",
       "Name: date, Length: 1000, dtype: float64"
      ]
     },
     "execution_count": 13,
     "metadata": {},
     "output_type": "execute_result"
    }
   ],
   "source": [
    "# Months passed\n",
    "## Allowed units are 'W', 'D', 'h', 'm', 's', 'ms', 'us', 'ns'\n",
    "np.round((today -date['date']) / np.timedelta64(1, 'W'),0)"
   ]
  },
  {
   "cell_type": "markdown",
   "id": "09c089cf-909c-4821-96a0-74ee9a62b743",
   "metadata": {},
   "source": [
    "# Extract The Time"
   ]
  },
  {
   "cell_type": "code",
   "execution_count": 14,
   "id": "a72e162e-a15b-4bac-a9f2-056d6f84014e",
   "metadata": {},
   "outputs": [
    {
     "data": {
      "text/html": [
       "<div>\n",
       "<style scoped>\n",
       "    .dataframe tbody tr th:only-of-type {\n",
       "        vertical-align: middle;\n",
       "    }\n",
       "\n",
       "    .dataframe tbody tr th {\n",
       "        vertical-align: top;\n",
       "    }\n",
       "\n",
       "    .dataframe thead th {\n",
       "        text-align: right;\n",
       "    }\n",
       "</style>\n",
       "<table border=\"1\" class=\"dataframe\">\n",
       "  <thead>\n",
       "    <tr style=\"text-align: right;\">\n",
       "      <th></th>\n",
       "      <th>date</th>\n",
       "    </tr>\n",
       "  </thead>\n",
       "  <tbody>\n",
       "    <tr>\n",
       "      <th>0</th>\n",
       "      <td>2013-12-15 00:50:00</td>\n",
       "    </tr>\n",
       "    <tr>\n",
       "      <th>1</th>\n",
       "      <td>2014-04-29 23:40:00</td>\n",
       "    </tr>\n",
       "    <tr>\n",
       "      <th>2</th>\n",
       "      <td>2012-12-30 00:21:00</td>\n",
       "    </tr>\n",
       "    <tr>\n",
       "      <th>3</th>\n",
       "      <td>2014-11-28 00:31:00</td>\n",
       "    </tr>\n",
       "    <tr>\n",
       "      <th>4</th>\n",
       "      <td>2013-10-26 23:11:00</td>\n",
       "    </tr>\n",
       "    <tr>\n",
       "      <th>...</th>\n",
       "      <td>...</td>\n",
       "    </tr>\n",
       "    <tr>\n",
       "      <th>995</th>\n",
       "      <td>2012-03-16 00:50:00</td>\n",
       "    </tr>\n",
       "    <tr>\n",
       "      <th>996</th>\n",
       "      <td>2014-01-23 23:14:00</td>\n",
       "    </tr>\n",
       "    <tr>\n",
       "      <th>997</th>\n",
       "      <td>2012-10-15 23:37:00</td>\n",
       "    </tr>\n",
       "    <tr>\n",
       "      <th>998</th>\n",
       "      <td>2012-06-21 23:34:00</td>\n",
       "    </tr>\n",
       "    <tr>\n",
       "      <th>999</th>\n",
       "      <td>2014-06-19 23:25:00</td>\n",
       "    </tr>\n",
       "  </tbody>\n",
       "</table>\n",
       "<p>1000 rows × 1 columns</p>\n",
       "</div>"
      ],
      "text/plain": [
       "                    date\n",
       "0    2013-12-15 00:50:00\n",
       "1    2014-04-29 23:40:00\n",
       "2    2012-12-30 00:21:00\n",
       "3    2014-11-28 00:31:00\n",
       "4    2013-10-26 23:11:00\n",
       "..                   ...\n",
       "995  2012-03-16 00:50:00\n",
       "996  2014-01-23 23:14:00\n",
       "997  2012-10-15 23:37:00\n",
       "998  2012-06-21 23:34:00\n",
       "999  2014-06-19 23:25:00\n",
       "\n",
       "[1000 rows x 1 columns]"
      ]
     },
     "execution_count": 14,
     "metadata": {},
     "output_type": "execute_result"
    }
   ],
   "source": [
    "time.drop(columns=['msg'],inplace=True)\n",
    "time"
   ]
  },
  {
   "cell_type": "code",
   "execution_count": 15,
   "id": "b8ddd6af-bb22-4e0a-8c3f-e3d420006c8a",
   "metadata": {},
   "outputs": [
    {
     "name": "stdout",
     "output_type": "stream",
     "text": [
      "<class 'pandas.core.frame.DataFrame'>\n",
      "RangeIndex: 1000 entries, 0 to 999\n",
      "Data columns (total 1 columns):\n",
      " #   Column  Non-Null Count  Dtype \n",
      "---  ------  --------------  ----- \n",
      " 0   date    1000 non-null   object\n",
      "dtypes: object(1)\n",
      "memory usage: 7.9+ KB\n"
     ]
    }
   ],
   "source": [
    "time.info()"
   ]
  },
  {
   "cell_type": "code",
   "execution_count": 16,
   "id": "f2e0b261-10dc-4ccc-8a56-0bfb1fb669ff",
   "metadata": {},
   "outputs": [],
   "source": [
    "time['date']=pd.to_datetime(time['date'])"
   ]
  },
  {
   "cell_type": "code",
   "execution_count": 17,
   "id": "7cf00b36-bfad-45c6-b00e-54b28070943c",
   "metadata": {},
   "outputs": [
    {
     "name": "stdout",
     "output_type": "stream",
     "text": [
      "<class 'pandas.core.frame.DataFrame'>\n",
      "RangeIndex: 1000 entries, 0 to 999\n",
      "Data columns (total 1 columns):\n",
      " #   Column  Non-Null Count  Dtype         \n",
      "---  ------  --------------  -----         \n",
      " 0   date    1000 non-null   datetime64[ns]\n",
      "dtypes: datetime64[ns](1)\n",
      "memory usage: 7.9 KB\n"
     ]
    }
   ],
   "source": [
    "time.info()"
   ]
  },
  {
   "cell_type": "code",
   "execution_count": 18,
   "id": "2ab1fb12-78fb-4a5d-b12d-7f201a15ed72",
   "metadata": {},
   "outputs": [
    {
     "data": {
      "text/html": [
       "<div>\n",
       "<style scoped>\n",
       "    .dataframe tbody tr th:only-of-type {\n",
       "        vertical-align: middle;\n",
       "    }\n",
       "\n",
       "    .dataframe tbody tr th {\n",
       "        vertical-align: top;\n",
       "    }\n",
       "\n",
       "    .dataframe thead th {\n",
       "        text-align: right;\n",
       "    }\n",
       "</style>\n",
       "<table border=\"1\" class=\"dataframe\">\n",
       "  <thead>\n",
       "    <tr style=\"text-align: right;\">\n",
       "      <th></th>\n",
       "      <th>date</th>\n",
       "      <th>hour</th>\n",
       "      <th>min</th>\n",
       "      <th>sec</th>\n",
       "      <th>time</th>\n",
       "      <th>date_fromtimedate</th>\n",
       "    </tr>\n",
       "  </thead>\n",
       "  <tbody>\n",
       "    <tr>\n",
       "      <th>0</th>\n",
       "      <td>2013-12-15 00:50:00</td>\n",
       "      <td>0</td>\n",
       "      <td>50</td>\n",
       "      <td>0</td>\n",
       "      <td>00:50:00</td>\n",
       "      <td>2013-12-15</td>\n",
       "    </tr>\n",
       "    <tr>\n",
       "      <th>1</th>\n",
       "      <td>2014-04-29 23:40:00</td>\n",
       "      <td>23</td>\n",
       "      <td>40</td>\n",
       "      <td>0</td>\n",
       "      <td>23:40:00</td>\n",
       "      <td>2014-04-29</td>\n",
       "    </tr>\n",
       "    <tr>\n",
       "      <th>2</th>\n",
       "      <td>2012-12-30 00:21:00</td>\n",
       "      <td>0</td>\n",
       "      <td>21</td>\n",
       "      <td>0</td>\n",
       "      <td>00:21:00</td>\n",
       "      <td>2012-12-30</td>\n",
       "    </tr>\n",
       "    <tr>\n",
       "      <th>3</th>\n",
       "      <td>2014-11-28 00:31:00</td>\n",
       "      <td>0</td>\n",
       "      <td>31</td>\n",
       "      <td>0</td>\n",
       "      <td>00:31:00</td>\n",
       "      <td>2014-11-28</td>\n",
       "    </tr>\n",
       "    <tr>\n",
       "      <th>4</th>\n",
       "      <td>2013-10-26 23:11:00</td>\n",
       "      <td>23</td>\n",
       "      <td>11</td>\n",
       "      <td>0</td>\n",
       "      <td>23:11:00</td>\n",
       "      <td>2013-10-26</td>\n",
       "    </tr>\n",
       "    <tr>\n",
       "      <th>...</th>\n",
       "      <td>...</td>\n",
       "      <td>...</td>\n",
       "      <td>...</td>\n",
       "      <td>...</td>\n",
       "      <td>...</td>\n",
       "      <td>...</td>\n",
       "    </tr>\n",
       "    <tr>\n",
       "      <th>995</th>\n",
       "      <td>2012-03-16 00:50:00</td>\n",
       "      <td>0</td>\n",
       "      <td>50</td>\n",
       "      <td>0</td>\n",
       "      <td>00:50:00</td>\n",
       "      <td>2012-03-16</td>\n",
       "    </tr>\n",
       "    <tr>\n",
       "      <th>996</th>\n",
       "      <td>2014-01-23 23:14:00</td>\n",
       "      <td>23</td>\n",
       "      <td>14</td>\n",
       "      <td>0</td>\n",
       "      <td>23:14:00</td>\n",
       "      <td>2014-01-23</td>\n",
       "    </tr>\n",
       "    <tr>\n",
       "      <th>997</th>\n",
       "      <td>2012-10-15 23:37:00</td>\n",
       "      <td>23</td>\n",
       "      <td>37</td>\n",
       "      <td>0</td>\n",
       "      <td>23:37:00</td>\n",
       "      <td>2012-10-15</td>\n",
       "    </tr>\n",
       "    <tr>\n",
       "      <th>998</th>\n",
       "      <td>2012-06-21 23:34:00</td>\n",
       "      <td>23</td>\n",
       "      <td>34</td>\n",
       "      <td>0</td>\n",
       "      <td>23:34:00</td>\n",
       "      <td>2012-06-21</td>\n",
       "    </tr>\n",
       "    <tr>\n",
       "      <th>999</th>\n",
       "      <td>2014-06-19 23:25:00</td>\n",
       "      <td>23</td>\n",
       "      <td>25</td>\n",
       "      <td>0</td>\n",
       "      <td>23:25:00</td>\n",
       "      <td>2014-06-19</td>\n",
       "    </tr>\n",
       "  </tbody>\n",
       "</table>\n",
       "<p>1000 rows × 6 columns</p>\n",
       "</div>"
      ],
      "text/plain": [
       "                   date  hour  min  sec      time date_fromtimedate\n",
       "0   2013-12-15 00:50:00     0   50    0  00:50:00        2013-12-15\n",
       "1   2014-04-29 23:40:00    23   40    0  23:40:00        2014-04-29\n",
       "2   2012-12-30 00:21:00     0   21    0  00:21:00        2012-12-30\n",
       "3   2014-11-28 00:31:00     0   31    0  00:31:00        2014-11-28\n",
       "4   2013-10-26 23:11:00    23   11    0  23:11:00        2013-10-26\n",
       "..                  ...   ...  ...  ...       ...               ...\n",
       "995 2012-03-16 00:50:00     0   50    0  00:50:00        2012-03-16\n",
       "996 2014-01-23 23:14:00    23   14    0  23:14:00        2014-01-23\n",
       "997 2012-10-15 23:37:00    23   37    0  23:37:00        2012-10-15\n",
       "998 2012-06-21 23:34:00    23   34    0  23:34:00        2012-06-21\n",
       "999 2014-06-19 23:25:00    23   25    0  23:25:00        2014-06-19\n",
       "\n",
       "[1000 rows x 6 columns]"
      ]
     },
     "execution_count": 18,
     "metadata": {},
     "output_type": "execute_result"
    }
   ],
   "source": [
    "time['hour'] = time['date'].dt.hour\n",
    "time['min'] = time['date'].dt.minute\n",
    "time['sec'] = time['date'].dt.second\n",
    "time['time'] = time['date'].dt.time\n",
    "time['date_fromtimedate'] = time['date'].dt.date\n",
    "\n",
    "\n",
    "time"
   ]
  },
  {
   "cell_type": "code",
   "execution_count": null,
   "id": "54743af1-327e-4302-b01d-a51b88c02135",
   "metadata": {},
   "outputs": [],
   "source": []
  }
 ],
 "metadata": {
  "kernelspec": {
   "display_name": "Python 3 (ipykernel)",
   "language": "python",
   "name": "python3"
  },
  "language_info": {
   "codemirror_mode": {
    "name": "ipython",
    "version": 3
   },
   "file_extension": ".py",
   "mimetype": "text/x-python",
   "name": "python",
   "nbconvert_exporter": "python",
   "pygments_lexer": "ipython3",
   "version": "3.12.6"
  }
 },
 "nbformat": 4,
 "nbformat_minor": 5
}
